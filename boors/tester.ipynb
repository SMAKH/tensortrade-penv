{
 "cells": [
  {
   "cell_type": "code",
   "execution_count": 58,
   "metadata": {},
   "outputs": [],
   "source": [
    "import numpy as np\n",
    "class ComputationalSignalManager:\n",
    "    def __init__(self,start_date,end_date,data,number_of_symbols,number_of_experts):\n",
    "        self.data=data\n",
    "        self.start_date = start_date\n",
    "        self.end_date = end_date\n",
    "        self.date_range=pd.date_range(start_date, end_date, freq='D')\n",
    "        self.number_of_experts=number_of_experts\n",
    "        self.number_of_symbols=number_of_symbols\n",
    "        self.current_step=0\n",
    "        self.current_date=pd.to_datetime(start_date)\n",
    "        self.signal_date_map={}\n",
    "    def convert_signals_to_tensors(self,current_signals):\n",
    "        z=np.zeros(shape=(self.number_of_experts,self.number_of_symbols,2))\n",
    "        for s in current_signals.iterrows():\n",
    "            sym_id=s[0][0]\n",
    "            exp_id=s[0][1]\n",
    "            profit=s[1][2]\n",
    "            loss=s[1][3]\n",
    "            z[exp_id,sym_id,0]=profit\n",
    "            z[exp_id,sym_id,1]=loss\n",
    "        return z\n",
    "\n",
    "            \n",
    "    def next(self):\n",
    "        singnals=self.data[(self.data['start_date']<=self.current_date)&(self.data['close_date']>=self.current_date)]\n",
    "        si=singnals.groupby(['symbol_id','expert_id']).mean()\n",
    "        self.current_date+=pd.Timedelta(days=1)\n",
    "        return self.convert_signals_to_tensors(si)\n",
    "        \n",
    "        "
   ]
  },
  {
   "cell_type": "code",
   "execution_count": 59,
   "metadata": {},
   "outputs": [],
   "source": [
    "import pandas as pd\n",
    "df=pd.read_csv(\"../final_signals.csv\")\n",
    "df['start_date']=pd.to_datetime(df['start_date'])\n",
    "df['close_date']=pd.to_datetime(df['close_date'])\n",
    "unique_dates=pd.date_range(\"11/15/2015\",\"2/3/2022\",freq=\"D\")\n",
    "d=ComputationalSignalManager(\"11/15/2015\",\"2/3/2022\",df,562,145)"
   ]
  }
 ],
 "metadata": {
  "interpreter": {
   "hash": "b253bcf6d19763e247c43690a48b66ec26fb5f0abf75501110c311576e377b1c"
  },
  "kernelspec": {
   "display_name": "Python 3.9.5 64-bit ('base': conda)",
   "language": "python",
   "name": "python3"
  },
  "language_info": {
   "codemirror_mode": {
    "name": "ipython",
    "version": 3
   },
   "file_extension": ".py",
   "mimetype": "text/x-python",
   "name": "python",
   "nbconvert_exporter": "python",
   "pygments_lexer": "ipython3",
   "version": "3.8.12"
  },
  "orig_nbformat": 4
 },
 "nbformat": 4,
 "nbformat_minor": 2
}
