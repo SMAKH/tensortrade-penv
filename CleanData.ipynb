{
 "cells": [
  {
   "cell_type": "code",
   "execution_count": 1,
   "metadata": {
    "collapsed": true
   },
   "outputs": [],
   "source": [
    "import pandas as pd\n",
    "%matplotlib inline\n",
    "data=pd.read_csv(\"./boors/cleaned_data.csv\")\n",
    "data['date']=pd.to_datetime(data['date'])\n",
    "date_range=pd.DataFrame(pd.date_range(\"6/22/2015\", \"1/1/2020\", freq='D'),columns=['date'])\n",
    "dfs=dict(tuple(data.groupby('unix')))\n",
    "init=date_range\n",
    "for d in dfs:\n",
    "    dfs[d]=dfs[d][[\"date\",\"open\",\"high\",\"low\",\"close\",\"volume\"]]\n",
    "    dfs[d]=dfs[d].add_prefix(str(d)+\":\")\n",
    "    init=pd.merge(init,dfs[d],left_on='date',right_on=str(d)+\":\"+'date',how='outer')\n",
    "date_cols = [col for col in init.columns[1:] if 'date' in col]\n",
    "for c in date_cols:\n",
    "    init[c]=init[\"date\"]\n",
    "date_cols = [col for col in init.columns[1:] if 'date' in col]\n",
    "final_data=init.drop(date_cols,axis=1)\n",
    "vol_cols = [col for col in final_data.columns[1:] if 'volume' in col]\n",
    "final_data[vol_cols]=final_data[vol_cols].fillna(0)"
   ]
  },
  {
   "cell_type": "markdown",
   "metadata": {},
   "source": []
  },
  {
   "cell_type": "code",
   "execution_count": 2,
   "metadata": {},
   "outputs": [],
   "source": [
    "others_cols = [col for col in final_data.columns[1:] if not 'volume' in col]\n",
    "\n",
    "for column in others_cols:\n",
    "    final_data[column].fillna(method=\"backfill\",inplace=True)"
   ]
  },
  {
   "cell_type": "code",
   "execution_count": 4,
   "metadata": {},
   "outputs": [],
   "source": [
    "# some columns that their last prices are null, should be filled with last valid data\n",
    "others_cols = [col for col in final_data.columns[1:] if not 'volume' in col]\n",
    "\n",
    "for column in others_cols:\n",
    "    final_data[column].fillna(method=\"ffill\",inplace=True)"
   ]
  },
  {
   "cell_type": "code",
   "execution_count": 5,
   "metadata": {},
   "outputs": [],
   "source": [
    "final_data.to_csv(\"./main_final_data.csv\")"
   ]
  }
 ],
 "metadata": {
  "kernelspec": {
   "display_name": "Python 3",
   "language": "python",
   "name": "python3"
  },
  "language_info": {
   "codemirror_mode": {
    "name": "ipython",
    "version": 3
   },
   "file_extension": ".py",
   "mimetype": "text/x-python",
   "name": "python",
   "nbconvert_exporter": "python",
   "pygments_lexer": "ipython3",
   "version": "3.8.12"
  }
 },
 "nbformat": 4,
 "nbformat_minor": 0
}
